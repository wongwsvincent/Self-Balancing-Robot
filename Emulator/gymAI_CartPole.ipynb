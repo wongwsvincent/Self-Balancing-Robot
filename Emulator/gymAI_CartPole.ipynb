{
 "cells": [
  {
   "cell_type": "code",
   "execution_count": 1,
   "metadata": {
    "scrolled": false
   },
   "outputs": [
    {
     "name": "stdout",
     "output_type": "stream",
     "text": [
      "Running epoch # 0...\n",
      "Running epoch # 1...\n",
      "Running epoch # 2...\n",
      "Running epoch # 3...\n",
      "Running epoch # 4...\n",
      "Running epoch # 5...\n",
      "Running epoch # 6...\n",
      "Running epoch # 7...\n",
      "Running epoch # 8...\n",
      "Running epoch # 9...\n",
      "Running epoch # 10...\n",
      "Running epoch # 20...\n",
      "Finished running and solution found in epoch # 26! =D \n",
      "\n",
      "Saving animation...\n",
      "Animation saves as gif at: random_search_play.gif\n",
      "############################\n",
      "#                          #\n",
      "#        All done!!        #\n",
      "#                          #\n",
      "############################\n"
     ]
    },
    {
     "data": {
      "image/png": "[encoded data removed]",
      "text/plain": [
       "<Figure size 1200x800 with 1 Axes>"
      ]
     },
     "metadata": {
      "needs_background": "light"
     },
     "output_type": "display_data"
    }
   ],
   "source": [
    "import gym\n",
    "# from gym import wrappers\n",
    "import numpy as np\n",
    "import matplotlib.pyplot as plt\n",
    "from matplotlib import animation\n",
    "from IPython.display import display\n",
    "\n",
    "# pop_up=False\n",
    "# if (pop_up):\n",
    "#     %matplotlib qt\n",
    "# else:\n",
    "#     %matplotlib notebook\n",
    "\n",
    "# configurations\n",
    "numEpoch=10000\n",
    "numTargetFrame=400\n",
    "\n",
    "    \n",
    "env = gym.make('CartPole-v1')\n",
    "# env = wrappers.Monitor(env, video_callable=False ,force=True)\n",
    "\n",
    "def display_frames_as_gif(frames, filename_gif = None):\n",
    "    \"\"\"\n",
    "    Displays a list of frames as a gif, with controls\n",
    "    \"\"\"\n",
    "    plt.figure(figsize=(frames[0].shape[1] / 72.0, frames[0].shape[0] / 72.0), dpi = 36)\n",
    "    patch = plt.imshow(frames[0])\n",
    "    plt.axis('off')\n",
    "\n",
    "    def animate(i):\n",
    "        patch.set_data(frames[i])\n",
    "\n",
    "    anim = animation.FuncAnimation(plt.gcf(), animate, frames = len(frames), interval=50, repeat=False)\n",
    "    if filename_gif: \n",
    "        print(\"Saving animation...\")\n",
    "        anim.save(filename_gif, writer = 'pillow', fps=10)\n",
    "        print(\"Animation saves as gif at: {}\".format(filename_gif))\n",
    "    \n",
    "def run_episode(env, parameters):  \n",
    "    \"\"\"Runs the env for a certain amount of steps with the given parameters. Returns the reward obtained\"\"\"\n",
    "    observation = env.reset()\n",
    "    totalreward = 0\n",
    "    for _ in range(numTargetFrame):\n",
    "        action = 0 if np.matmul(parameters,observation) < 0 else 1 # decides what action to take\n",
    "        observation, reward, done, info = env.step(action)\n",
    "        totalreward += reward\n",
    "        if done:\n",
    "            break\n",
    "    return totalreward\n",
    "\n",
    "# Random search: try random parameters between -1 and 1, see how long the game lasts with those parameters\n",
    "bestparams = None  \n",
    "bestreward = 0\n",
    "succeed = 0\n",
    "for i in range(numEpoch):  \n",
    "    parameters = np.random.rand(4) * 2 - 1\n",
    "    reward = run_episode(env,parameters)\n",
    "    if reward > bestreward:\n",
    "        bestreward = reward\n",
    "        bestparams = parameters\n",
    "        # considered solved if the agent lasts for the required number of timesteps\n",
    "        if reward == numTargetFrame:\n",
    "            succeed = 1\n",
    "            break\n",
    "    if(i<10 or (i<100 and i%10==0) or (i<1000 and i%100==0) or (i%1000==0)):\n",
    "        print(\"Running epoch # {}...\".format(i))\n",
    "if (succeed==1):\n",
    "    print(\"Finished running and solution found in epoch # {}! =D \\n\".format(i)) # first epoch starts from label 0\n",
    "else:\n",
    "    print(\"Finished running but solution not found. =\\\\ \\n\")\n",
    "            \n",
    "def show_episode(env, parameters):  \n",
    "    \"\"\" Records the frames of the environment obtained using the given parameters... Returns RGB frames\"\"\"\n",
    "    observation = env.reset()\n",
    "    firstframe = env.render(mode='rgb_array')\n",
    "    frames = [firstframe]\n",
    "    \n",
    "    for _ in range(numTargetFrame):\n",
    "        action = 0 if np.matmul(parameters,observation) < 0 else 1\n",
    "        observation, reward, done, info = env.step(action)\n",
    "        frame = env.render(mode='rgb_array')\n",
    "        frames.append(frame)\n",
    "        if done:\n",
    "            break\n",
    "    return frames\n",
    "\n",
    "frames = show_episode(env, bestparams)\n",
    "display_frames_as_gif(frames, filename_gif=\"random_search_play.gif\")\n",
    "env.close()\n",
    "print(\"############################\")\n",
    "print(\"#                          #\")\n",
    "print(\"#        All done!!        #\")\n",
    "print(\"#                          #\")\n",
    "print(\"############################\")"
   ]
  },
  {
   "cell_type": "code",
   "execution_count": null,
   "metadata": {},
   "outputs": [],
   "source": []
  }
 ],
 "metadata": {
  "kernelspec": {
   "display_name": "Python 3",
   "language": "python",
   "name": "python3"
  },
  "language_info": {
   "codemirror_mode": {
    "name": "ipython",
    "version": 3
   },
   "file_extension": ".py",
   "mimetype": "text/x-python",
   "name": "python",
   "nbconvert_exporter": "python",
   "pygments_lexer": "ipython3",
   "version": "3.6.10"
  }
 },
 "nbformat": 4,
 "nbformat_minor": 4
}
